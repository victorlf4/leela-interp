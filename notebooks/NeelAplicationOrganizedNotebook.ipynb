{
 "cells": [
  {
   "cell_type": "code",
   "execution_count": 1,
   "metadata": {},
   "outputs": [
    {
     "name": "stderr",
     "output_type": "stream",
     "text": [
      "/media/victor/F8D25071D25035DA/Alingment/lela-interp/neelaplicationexperiment/leela-interp/.venv/lib/python3.10/site-packages/tqdm/auto.py:21: TqdmWarning: IProgress not found. Please update jupyter and ipywidgets. See https://ipywidgets.readthedocs.io/en/stable/user_install.html\n",
      "  from .autonotebook import tqdm as notebook_tqdm\n"
     ]
    }
   ],
   "source": [
    "import itertools\n",
    "import pickle\n",
    "\n",
    "import torch\n",
    "from leela_interp import Lc0sight, LeelaBoard\n",
    "from leela_interp.tools.attention import attention_attribution, top_k_attributions\n",
    "from leela_interp.tools.patching import activation_patch\n",
    "import pickle\n",
    "from pathlib import Path\n",
    "\n",
    "import chess\n",
    "import iceberg as ice\n",
    "import matplotlib.pyplot as plt\n",
    "import numpy as np\n",
    "import torch\n",
    "from leela_interp import Lc0Model, Lc0sight, LeelaBoard\n",
    "from leela_interp.core.iceberg_board import palette\n",
    "from leela_interp.tools import figure_helpers as fh\n",
    "from leela_interp.tools.piece_movement_heads import (\n",
    "    bishop_heads,\n",
    "    knight_heads,\n",
    "    rook_heads,\n",
    ")"
   ]
  },
  {
   "cell_type": "code",
   "execution_count": null,
   "metadata": {},
   "outputs": [],
   "source": [
    "%cd .. # cd to "
   ]
  }
 ],
 "metadata": {
  "kernelspec": {
   "display_name": ".venv",
   "language": "python",
   "name": "python3"
  },
  "language_info": {
   "codemirror_mode": {
    "name": "ipython",
    "version": 3
   },
   "file_extension": ".py",
   "mimetype": "text/x-python",
   "name": "python",
   "nbconvert_exporter": "python",
   "pygments_lexer": "ipython3",
   "version": "3.10.12"
  }
 },
 "nbformat": 4,
 "nbformat_minor": 2
}
